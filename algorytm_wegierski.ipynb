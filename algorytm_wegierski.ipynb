{
 "cells": [
  {
   "attachments": {},
   "cell_type": "markdown",
   "metadata": {},
   "source": [
    "# Programowanie liniowe (Badania operacyjne) - Algorytm węgierski w Python"
   ]
  },
  {
   "attachments": {},
   "cell_type": "markdown",
   "metadata": {},
   "source": [
    "#### Import wymaganych bibliotek oraz funkcji\n",
    "- Numpy - biblioteka Pythona, dodająca obsługę dużych, wielowymiarowych tabel i macierzy\n",
    "- SciPy - biblioteka Pythona używana do obliczeń naukowych i obliczeń technicznych\n",
    "- Funkcja linear_sum_assignment - umożliwia rozwiązanie problemu optymalizacyjnego znanego jako \"problem przypisania\", wykorzystując algorytm węgierski "
   ]
  },
  {
   "cell_type": "code",
   "execution_count": 2,
   "metadata": {},
   "outputs": [],
   "source": [
    "import numpy as np\n",
    "from scipy.optimize import linear_sum_assignment"
   ]
  },
  {
   "cell_type": "markdown",
   "metadata": {},
   "source": [
    "#### Zdefiniowanie problemu\n",
    "*MPK zamierza przekształcić cztery warsztaty naprawcze taboru w specjalizowane punkty obsługi czterech typów samochodów osobowych: forda, volkswagena, toyoty i fiata. Dana jest macierz, której elementy oznaczają przeciętny czas remontu (w dniach) samochodu j-tego typu w i-tym warsztacie. \n",
    "<br>\n",
    "Nalezy przydzielić remonty wymienionych typów samochodów poszczególnym punktom obsługi optymalnie z punktu widzenia minimalizacji łącznego czasu wykonywania remontów.*"
   ]
  },
  {
   "attachments": {},
   "cell_type": "markdown",
   "metadata": {},
   "source": [
    "#### Zdefiniowanie macierzy kosztów"
   ]
  },
  {
   "cell_type": "code",
   "execution_count": 3,
   "metadata": {},
   "outputs": [],
   "source": [
    "cost_matrix = np.array([[5,7,8,7],\n",
    "                        [6,4,7,6],\n",
    "                        [3,7,6,5],\n",
    "                        [4,3,5,9]])"
   ]
  },
  {
   "attachments": {},
   "cell_type": "markdown",
   "metadata": {},
   "source": [
    "#### Wyznaczenie optymalnego przypisania wykorzystując funkcję linear_sum_assignment\n",
    "Funkcja zwraca numery wierszy i kolumn dla każdego przypisania"
   ]
  },
  {
   "cell_type": "code",
   "execution_count": 4,
   "metadata": {},
   "outputs": [],
   "source": [
    "row_ind, col_ind = linear_sum_assignment(cost_matrix)"
   ]
  },
  {
   "attachments": {},
   "cell_type": "markdown",
   "metadata": {},
   "source": [
    "Rozwiązanie prezentuje się następująco"
   ]
  },
  {
   "cell_type": "code",
   "execution_count": 5,
   "metadata": {},
   "outputs": [
    {
     "data": {
      "text/plain": [
       "array([[1, 0, 0, 0],\n",
       "       [0, 1, 0, 0],\n",
       "       [0, 0, 0, 1],\n",
       "       [0, 0, 1, 0]])"
      ]
     },
     "execution_count": 5,
     "metadata": {},
     "output_type": "execute_result"
    }
   ],
   "source": [
    "# utworzenie macierzy zerowej o wymiarach macierzy kosztów\n",
    "solution = np.zeros_like(cost_matrix)\n",
    "# wpisanie jedynek w miejsca przypisań wyznaczonych przez algorytm węgierski\n",
    "for row, col in zip(list(row_ind), list(col_ind)):\n",
    "    solution[row, col] = 1\n",
    "\n",
    "# wyświetlenie rozwiązania\n",
    "solution"
   ]
  },
  {
   "attachments": {},
   "cell_type": "markdown",
   "metadata": {},
   "source": [
    "#### Zminimalizowany łączny czas wykonywania remontów"
   ]
  },
  {
   "cell_type": "code",
   "execution_count": 6,
   "metadata": {},
   "outputs": [
    {
     "data": {
      "text/plain": [
       "19"
      ]
     },
     "execution_count": 6,
     "metadata": {},
     "output_type": "execute_result"
    }
   ],
   "source": [
    "# zsumowanie elementów macierzy kosztów wyznaczonych przez algorytm węgierski\n",
    "cost = cost_matrix[row_ind, col_ind].sum()\n",
    "cost"
   ]
  }
 ],
 "metadata": {
  "kernelspec": {
   "display_name": "Python 3",
   "language": "python",
   "name": "python3"
  },
  "language_info": {
   "codemirror_mode": {
    "name": "ipython",
    "version": 3
   },
   "file_extension": ".py",
   "mimetype": "text/x-python",
   "name": "python",
   "nbconvert_exporter": "python",
   "pygments_lexer": "ipython3",
   "version": "3.10.9"
  },
  "orig_nbformat": 4
 },
 "nbformat": 4,
 "nbformat_minor": 2
}
