{
 "cells": [
  {
   "attachments": {},
   "cell_type": "markdown",
   "metadata": {},
   "source": [
    "# Programowanie liniowe - Algorytm transportowy w Python"
   ]
  },
  {
   "attachments": {},
   "cell_type": "markdown",
   "metadata": {},
   "source": [
    "##### Import wymaganych bibliotek\n",
    "- pulp - biblioteka Pythona służącą do rozwiązywania problemów optymalizacyjnych"
   ]
  },
  {
   "cell_type": "code",
   "execution_count": 79,
   "metadata": {},
   "outputs": [],
   "source": [
    "# Import biblioteki pulp\n",
    "from pulp import *\n",
    "\n",
    "# Utworzenie programu liniowego\n",
    "prob = LpProblem(\"Algorytm transportowy\", LpMinimize)"
   ]
  },
  {
   "attachments": {},
   "cell_type": "markdown",
   "metadata": {},
   "source": [
    "##### Zdefiniowanie zadania"
   ]
  },
  {
   "cell_type": "code",
   "execution_count": 73,
   "metadata": {},
   "outputs": [],
   "source": [
    "# Zdefiniowanie dostawców\n",
    "warehouses = [\"F1\", \"F2\", \"F3\"]\n",
    "\n",
    "# Zdefiniowanie podaży\n",
    "supply = {\"F1\": 60, \"F2\": 40, \"F3\":90}\n",
    "\n",
    "# Zdefiniowanie odbiorców\n",
    "projects = [\"M1\", \"M2\", \"M3\"]\n",
    "\n",
    "# Zdefiniowanie popytu\n",
    "demand = {\n",
    "    \"M1\": 50,\n",
    "    \"M2\": 60,\n",
    "    \"M3\": 80,\n",
    "}\n",
    "\n",
    "# Utworzenie macierzy kosztów\n",
    "costs = [ \n",
    "    [10,20,15],   \n",
    "    [18,12,20],\n",
    "    [25,24,10]  \n",
    "]\n",
    "\n",
    "costs = makeDict([warehouses, projects], costs, 0)"
   ]
  },
  {
   "cell_type": "code",
   "execution_count": 78,
   "metadata": {},
   "outputs": [],
   "source": [
    "# Utworzenie dróg pomiędzy dostawcami a odbiorcami\n",
    "Routes = [(w, b) for w in warehouses for b in projects]\n",
    "\n",
    "vars = LpVariable.dicts(\"Droga\", (warehouses, projects), 0, None, LpInteger)"
   ]
  },
  {
   "cell_type": "code",
   "execution_count": 75,
   "metadata": {},
   "outputs": [],
   "source": [
    "# Dodanie funkcji kosztu do programu liniowego\n",
    "prob += (\n",
    "    lpSum([vars[w][b] * costs[w][b] for (w, b) in Routes]),\n",
    "    \"Koszt\",\n",
    ")\n",
    "\n",
    "# Dodanie ograniczeń do programu liniowego\n",
    "for w in warehouses:\n",
    "    prob += (\n",
    "        lpSum([vars[w][b] for b in projects]) <= supply[w],\n",
    "        \"Sum_of_Products_out_of_warehouses_%s\" % w,\n",
    "    )\n",
    "\n",
    "for b in projects:\n",
    "    prob += (\n",
    "        lpSum([vars[w][b] for w in warehouses]) >= demand[b],\n",
    "        \"Sum_of_Products_into_projects%s\" % b,\n",
    "    )"
   ]
  },
  {
   "attachments": {},
   "cell_type": "markdown",
   "metadata": {},
   "source": [
    "##### Wyznaczenie optymalnego rozwiązania"
   ]
  },
  {
   "cell_type": "code",
   "execution_count": 77,
   "metadata": {},
   "outputs": [
    {
     "name": "stdout",
     "output_type": "stream",
     "text": [
      "Droga_F1_M1 = 50.0\n",
      "Droga_F1_M2 = 10.0\n",
      "Droga_F1_M3 = 0.0\n",
      "Droga_F2_M1 = 0.0\n",
      "Droga_F2_M2 = 40.0\n",
      "Droga_F2_M3 = 0.0\n",
      "Droga_F3_M1 = 0.0\n",
      "Droga_F3_M2 = 10.0\n",
      "Droga_F3_M3 = 80.0\n",
      "Koszt =  2220.0\n"
     ]
    }
   ],
   "source": [
    "prob.solve()\n",
    "\n",
    "# Wypisanie dróg\n",
    "for v in prob.variables():\n",
    "    print(v.name, \"=\", v.varValue)\n",
    "    \n",
    "# Wypisanie wartości funkcji kosztu\n",
    "print(\"Koszt = \", value(prob.objective))"
   ]
  },
  {
   "attachments": {},
   "cell_type": "markdown",
   "metadata": {},
   "source": [
    "##### Rozwiązanie jest zgodne z tym co udało się wyznaczyć poprzez wykonanie ręcznych obliczeń"
   ]
  }
 ],
 "metadata": {
  "kernelspec": {
   "display_name": "Python 3",
   "language": "python",
   "name": "python3"
  },
  "language_info": {
   "codemirror_mode": {
    "name": "ipython",
    "version": 3
   },
   "file_extension": ".py",
   "mimetype": "text/x-python",
   "name": "python",
   "nbconvert_exporter": "python",
   "pygments_lexer": "ipython3",
   "version": "3.10.9"
  },
  "orig_nbformat": 4
 },
 "nbformat": 4,
 "nbformat_minor": 2
}
