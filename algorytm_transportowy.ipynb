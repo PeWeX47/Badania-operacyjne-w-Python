{
 "cells": [
  {
   "attachments": {},
   "cell_type": "markdown",
   "metadata": {},
   "source": [
    "# Programowanie liniowe (Badania operacyjne) - Algorytm transportowy w Python"
   ]
  },
  {
   "attachments": {},
   "cell_type": "markdown",
   "metadata": {},
   "source": [
    "##### Import wymaganych bibliotek\n",
    "- pulp - biblioteka Pythona służącą do rozwiązywania problemów optymalizacyjnych w programowaniu linowym"
   ]
  },
  {
   "cell_type": "code",
   "execution_count": 6,
   "metadata": {},
   "outputs": [],
   "source": [
    "# Import biblioteki pulp\n",
    "from pulp import *\n",
    "\n",
    "# Utworzenie programu liniowego\n",
    "prob = LpProblem(\"Algorytm transportowy\", LpMinimize)"
   ]
  },
  {
   "attachments": {},
   "cell_type": "markdown",
   "metadata": {},
   "source": [
    "##### Zdefiniowanie problemu\n",
    "*Firma produkcyjna ma trzy fabryki (F1, F2, F3), które produkują różne produkty. Produkty te muszą być dostarczone do trzech magazynów (M1, M2, M3), z których zostaną przetransportowane do klientów. <br>\n",
    "Poniżej znajduje się lista fabryk, magazynów oraz koszty transportu między nimi:*\n",
    "\n",
    "*Koszty transportu:*\n",
    "\n",
    "|    | M1 | M2 | M3 |\n",
    "|----|----|----|----|\n",
    "| F1 | 10 | 20 | 15 |   \n",
    "| F2 | 18 | 12 | 20 |   \n",
    "| F3 | 25 | 24 | 10 |   \n",
    "\n",
    "*Dodatkowe informacje:*\n",
    "\n",
    "*Dostępność jednostkowa produktów w fabrykach: F1 (60), F2 (40), F3 (90)\n",
    "Zapotrzebowanie w magazynach: M1 (50), M2 (60), M3 (80)*\n",
    "\n",
    "*Celem jest opracowanie planu transportu, który spełnia powyższe ograniczenia dostępności i popytu oraz minimalizuje łączny koszt transportu.*"
   ]
  },
  {
   "cell_type": "code",
   "execution_count": 7,
   "metadata": {},
   "outputs": [],
   "source": [
    "# Zdefiniowanie dostawców\n",
    "warehouses = [\"F1\", \"F2\", \"F3\"]\n",
    "\n",
    "# Zdefiniowanie podaży\n",
    "supply = {\"F1\": 60, \"F2\": 40, \"F3\":90}\n",
    "\n",
    "# Zdefiniowanie odbiorców\n",
    "projects = [\"M1\", \"M2\", \"M3\"]\n",
    "\n",
    "# Zdefiniowanie popytu\n",
    "demand = {\n",
    "    \"M1\": 50,\n",
    "    \"M2\": 60,\n",
    "    \"M3\": 80,\n",
    "}\n",
    "\n",
    "# Utworzenie macierzy kosztów\n",
    "costs = [ \n",
    "    [10,20,15],   \n",
    "    [18,12,20],\n",
    "    [25,24,10]  \n",
    "]\n",
    "\n",
    "costs = makeDict([warehouses, projects], costs, 0)"
   ]
  },
  {
   "cell_type": "code",
   "execution_count": 8,
   "metadata": {},
   "outputs": [],
   "source": [
    "# Utworzenie dróg pomiędzy dostawcami a odbiorcami\n",
    "Routes = [(w, b) for w in warehouses for b in projects]\n",
    "\n",
    "vars = LpVariable.dicts(\"Droga\", (warehouses, projects), 0, None, LpInteger)"
   ]
  },
  {
   "cell_type": "code",
   "execution_count": 9,
   "metadata": {},
   "outputs": [],
   "source": [
    "# Dodanie funkcji kosztu do programu liniowego\n",
    "prob += (\n",
    "    lpSum([vars[w][b] * costs[w][b] for (w, b) in Routes]),\n",
    "    \"Koszt\",\n",
    ")\n",
    "\n",
    "# Dodanie ograniczeń do programu liniowego\n",
    "for w in warehouses:\n",
    "    prob += (\n",
    "        lpSum([vars[w][b] for b in projects]) <= supply[w],\n",
    "        \"Sum_of_Products_out_of_warehouses_%s\" % w,\n",
    "    )\n",
    "\n",
    "for b in projects:\n",
    "    prob += (\n",
    "        lpSum([vars[w][b] for w in warehouses]) >= demand[b],\n",
    "        \"Sum_of_Products_into_projects%s\" % b,\n",
    "    )"
   ]
  },
  {
   "attachments": {},
   "cell_type": "markdown",
   "metadata": {},
   "source": [
    "##### Wyznaczenie optymalnego rozwiązania"
   ]
  },
  {
   "cell_type": "code",
   "execution_count": 10,
   "metadata": {},
   "outputs": [
    {
     "name": "stdout",
     "output_type": "stream",
     "text": [
      "Droga_F1_M1 = 50.0\n",
      "Droga_F1_M2 = 10.0\n",
      "Droga_F1_M3 = 0.0\n",
      "Droga_F2_M1 = 0.0\n",
      "Droga_F2_M2 = 40.0\n",
      "Droga_F2_M3 = 0.0\n",
      "Droga_F3_M1 = 0.0\n",
      "Droga_F3_M2 = 10.0\n",
      "Droga_F3_M3 = 80.0\n",
      "Zminimalizowany koszt =  2220.0\n"
     ]
    }
   ],
   "source": [
    "prob.solve()\n",
    "\n",
    "# Wypisanie dróg\n",
    "for v in prob.variables():\n",
    "    print(v.name, \"=\", v.varValue)\n",
    "    \n",
    "# Wypisanie wartości funkcji kosztu\n",
    "print(\"Zminimalizowany koszt = \", value(prob.objective))"
   ]
  },
  {
   "cell_type": "code",
   "execution_count": null,
   "metadata": {},
   "outputs": [],
   "source": []
  }
 ],
 "metadata": {
  "kernelspec": {
   "display_name": "Python 3",
   "language": "python",
   "name": "python3"
  },
  "language_info": {
   "codemirror_mode": {
    "name": "ipython",
    "version": 3
   },
   "file_extension": ".py",
   "mimetype": "text/x-python",
   "name": "python",
   "nbconvert_exporter": "python",
   "pygments_lexer": "ipython3",
   "version": "3.10.9"
  },
  "orig_nbformat": 4
 },
 "nbformat": 4,
 "nbformat_minor": 2
}
